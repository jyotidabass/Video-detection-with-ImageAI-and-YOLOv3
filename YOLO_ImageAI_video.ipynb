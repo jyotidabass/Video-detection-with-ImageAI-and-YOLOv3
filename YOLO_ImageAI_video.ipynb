{
  "nbformat": 4,
  "nbformat_minor": 0,
  "metadata": {
    "colab": {
      "name": "yolo_imageai_video.ipynb",
      "provenance": [],
      "include_colab_link": true
    },
    "kernelspec": {
      "name": "python3",
      "display_name": "Python 3"
    },
    "accelerator": "GPU"
  },
  "cells": [
    {
      "cell_type": "markdown",
      "metadata": {
        "id": "view-in-github",
        "colab_type": "text"
      },
      "source": [
        "<a href=\"https://colab.research.google.com/github/jyotidabass/Video-detection-with-ImageAI-and-YOLOv3/blob/main/YOLO_ImageAI_video.ipynb\" target=\"_parent\"><img src=\"https://colab.research.google.com/assets/colab-badge.svg\" alt=\"Open In Colab\"/></a>"
      ]
    },
    {
      "metadata": {
        "id": "Y4EXVKawm3rP"
      },
      "cell_type": "markdown",
      "source": [
        "# Video detection with ImageAI and YOLOv3"
      ]
    },
    {
      "metadata": {
        "id": "8uGRdi-om6wH"
      },
      "cell_type": "markdown",
      "source": [
        "**ImageAI** provided very powerful yet easy to use classes and functions to perform Video Object Detection and Tracking and Video analysis. \n",
        "\n",
        "**ImageAI** allows you to perform all of these with state-of-the-art deep learning algorithms like RetinaNet, YOLOv3 and TinyYOLOv3. \n",
        "\n",
        "With ImageAI you can run detection tasks and analyse videos and live-video feeds from device cameras and IP cameras. \n",
        "\n",
        "In this tutorial we will implement a case study using YOLOv3 over a stored video. The code is inspired by the [ImageAI documentation](https://imageai.readthedocs.io/en/latest/video/index.html)"
      ]
    },
    {
      "metadata": {
        "id": "tXvkvSC8eij8"
      },
      "cell_type": "markdown",
      "source": [
        "## Install & Load the resources"
      ]
    },
    {
      "metadata": {
        "id": "5uIMtTTlXfqm",
        "outputId": "0599b883-bc90-46b4-8676-902fe8cffc5f",
        "colab": {
          "base_uri": "https://localhost:8080/",
          "height": 105
        }
      },
      "cell_type": "code",
      "source": [
        "!pip3 install https://github.com/OlafenwaMoses/ImageAI/releases/download/2.0.2/imageai-2.0.2-py3-none-any.whl\n",
        "!pip install -q opencv-python\n",
        "!pip install -q pillow"
      ],
      "execution_count": null,
      "outputs": [
        {
          "output_type": "stream",
          "text": [
            "Collecting imageai==2.0.2 from https://github.com/OlafenwaMoses/ImageAI/releases/download/2.0.2/imageai-2.0.2-py3-none-any.whl\n",
            "\u001b[?25l  Downloading https://github.com/OlafenwaMoses/ImageAI/releases/download/2.0.2/imageai-2.0.2-py3-none-any.whl (151kB)\n",
            "\u001b[K    100% |████████████████████████████████| 153kB 620kB/s \n",
            "\u001b[?25hInstalling collected packages: imageai\n",
            "Successfully installed imageai-2.0.2\n"
          ],
          "name": "stdout"
        }
      ]
    },
    {
      "metadata": {
        "id": "yw_KQVliZi75",
        "colab": {
          "base_uri": "https://localhost:8080/",
          "height": 35
        },
        "outputId": "9ee975bd-3e7e-4578-f64c-5352c3033270"
      },
      "cell_type": "code",
      "source": [
        "from imageai.Detection import VideoObjectDetection\n",
        "import matplotlib as plt\n",
        "import tensorflow as tf\n",
        "import numpy as np\n",
        "import scipy\n",
        "import keras\n",
        "import h5py"
      ],
      "execution_count": null,
      "outputs": [
        {
          "output_type": "stream",
          "text": [
            "Using TensorFlow backend.\n"
          ],
          "name": "stderr"
        }
      ]
    },
    {
      "metadata": {
        "id": "DRHBJBtXe1Yp"
      },
      "cell_type": "markdown",
      "source": [
        "## Create an instance of the VideoObjectDetection"
      ]
    },
    {
      "metadata": {
        "id": "Xz5eb3mAZvpz"
      },
      "cell_type": "code",
      "source": [
        "detector = VideoObjectDetection()"
      ],
      "execution_count": null,
      "outputs": []
    },
    {
      "metadata": {
        "id": "KmCIvOx2fElh"
      },
      "cell_type": "markdown",
      "source": [
        "## YOLO v3"
      ]
    },
    {
      "metadata": {
        "id": "gizGCAsKfHHJ"
      },
      "cell_type": "markdown",
      "source": [
        "This function sets the model type of the object detection instance we created to the YOLOv3 model, which means we will be performing our object detection tasks using the pre-trained “YOLOv3” model."
      ]
    },
    {
      "metadata": {
        "id": "TkupKxXDgD-d"
      },
      "cell_type": "markdown",
      "source": [
        "We can also set the model either to RetinaNet with **.setModelTypeAsRetinaNet()** or to TinyYOLOv3 with **.setModelTypeAsTinyYOLOv3()**"
      ]
    },
    {
      "metadata": {
        "id": "iUIfQDGzZ0g5"
      },
      "cell_type": "code",
      "source": [
        "detector.setModelTypeAsYOLOv3()"
      ],
      "execution_count": null,
      "outputs": []
    },
    {
      "metadata": {
        "id": "0hHQkwpgfY1H"
      },
      "cell_type": "markdown",
      "source": [
        "## Mount the drive to import yolo.h5 and the video"
      ]
    },
    {
      "metadata": {
        "id": "kukVv8ubaXWl",
        "cellView": "code",
        "outputId": "48aa91f3-6c91-48cb-98c1-612e33d6339e",
        "colab": {
          "base_uri": "https://localhost:8080/",
          "height": 125
        }
      },
      "cell_type": "code",
      "source": [
        "from google.colab import drive\n",
        "drive.mount('/content/gdrive')"
      ],
      "execution_count": null,
      "outputs": [
        {
          "output_type": "stream",
          "text": [
            "Go to this URL in a browser: https://accounts.google.com/o/oauth2/auth?client_id=0",
            "\n",
            "Enter your authorization code:\n",
            "········\n",
            "Mounted at /content/gdrive\n"
          ],
          "name": "stdout"
        }
      ]
    },
    {
      "metadata": {
        "id": "oa4aeibYbdtG",
        "outputId": "8355d128-8196-4c3d-e449-485e54bd33b9",
        "colab": {
          "base_uri": "https://localhost:8080/",
          "height": 35
        }
      },
      "cell_type": "code",
      "source": [
        "!ls '/content/gdrive/My Drive/Colab Notebooks/yolo/data'"
      ],
      "execution_count": null,
      "outputs": [
        {
          "output_type": "stream",
          "text": [
            "complexe.jpg  simple.jpg  video.mp4  yolo.h5\n"
          ],
          "name": "stdout"
        }
      ]
    },
    {
      "metadata": {
        "id": "BIZuILNJg36Q"
      },
      "cell_type": "markdown",
      "source": [
        "## The model file\n",
        "This function accepts a string which must be the path to the model file we downloaded"
      ]
    },
    {
      "metadata": {
        "id": "J2C88FoldrHP"
      },
      "cell_type": "code",
      "source": [
        "detector.setModelPath(\"/content/gdrive/My Drive/Colab Notebooks/yolo/data/yolo.h5\")"
      ],
      "execution_count": null,
      "outputs": []
    },
    {
      "metadata": {
        "id": "GR9XmIAHhQpL"
      },
      "cell_type": "markdown",
      "source": [
        "## Load the model\n",
        "This function loads the model from the path we specified in the function call above into our object detection instance\n"
      ]
    },
    {
      "metadata": {
        "id": "tkYRCrYEZ6Xd"
      },
      "cell_type": "code",
      "source": [
        "detector.loadModel()"
      ],
      "execution_count": null,
      "outputs": []
    },
    {
      "metadata": {
        "id": "nkwwEt5ZjRGv"
      },
      "cell_type": "markdown",
      "source": [
        "## Detect Objects From Video\n",
        "This is the function that performs object detecttion on a video file or video live-feed after the model has been loaded into the instance we created."
      ]
    },
    {
      "metadata": {
        "id": "K4Dyp75tZ81V",
        "colab": {
          "base_uri": "https://localhost:8080/",
          "height": 15980
        },
        "outputId": "eff048bc-4e89-45b6-83fa-ca768d2ef7be"
      },
      "cell_type": "code",
      "source": [
        "video_path = detector.detectObjectsFromVideo(input_file_path=\"/content/gdrive/My Drive/Colab Notebooks/yolo/data/video.mp4\",\n",
        "                                output_file_path=\"/content/gdrive/My Drive/Colab Notebooks/yolo/data/video_output\",\n",
        "                                frames_per_second=29, log_progress=True)"
      ],
      "execution_count": null,
      "outputs": [
        {
          "output_type": "stream",
          "text": [
            "Processing Frame :  1\n",
            "Processing Frame :  2\n",
            "Processing Frame :  3\n",
            "Processing Frame :  4\n",
            "Processing Frame :  5\n",
            "Processing Frame :  6\n",
            "Processing Frame :  7\n",
            "Processing Frame :  8\n",
            "Processing Frame :  9\n",
            "Processing Frame :  10\n",
            ".\n",
            ".\n",
            ".\n",
            "Processing Frame :  900\n",
            "Processing Frame :  901\n",
            "Processing Frame :  902\n",
            "Processing Frame :  903\n",
            "Processing Frame :  904\n",
            "Processing Frame :  905\n",
            "Processing Frame :  906\n",
            "Processing Frame :  907\n"
          ],
          "name": "stdout"
        }
      ]
    },
    {
      "metadata": {
        "id": "7bYWXQdakpph"
      },
      "cell_type": "markdown",
      "source": [
        "– *parameter* **input_file_path** (required if you did not set camera_input) : This refers to the path to the video file you want to detect.\n",
        "\n",
        "— *parameter* **output_file_path** (required if you did not set save_detected_video = False) : This refers to the path to which the detected video will be saved. By default, this functionsaves video .avi format.\n",
        "\n",
        "– *parameter* **frames_per_second** (optional , but recommended) : This parameters allows you to set your desired frames per second for the detected video that will be saved. The default value is 20 but we recommend you set the value that suits your video or camera live-feed.\n",
        "\n",
        "— *parameter* **log_progress** (optional) : Setting this parameter to True shows the progress of the video or live-feed as it is detected in the CLI. It will report every frame detected as it progresses. The default value is False.\n",
        "\n",
        "— *parameter* **camera_input** (optional) : This parameter can be set in replacement of the input_file_path if you want to detect objects in the live-feed of a camera."
      ]
    },
    {
      "metadata": {
        "id": "1S3QGpHJlRJU",
        "colab": {
          "base_uri": "https://localhost:8080/",
          "height": 35
        },
        "outputId": "4a06bee3-03db-4cbe-cbab-e84934f77750"
      },
      "cell_type": "code",
      "source": [
        "!ls '/content/gdrive/My Drive/Colab Notebooks/yolo/data'"
      ],
      "execution_count": null,
      "outputs": [
        {
          "output_type": "stream",
          "text": [
            "complexe.jpg  simple.jpg  video.mp4  video_output.avi  yolo.h5\n"
          ],
          "name": "stdout"
        }
      ]
    }
  ]
}